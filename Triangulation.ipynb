{
 "cells": [
  {
   "cell_type": "code",
   "execution_count": 21,
   "metadata": {},
   "outputs": [],
   "source": [
    "import os\n",
    "import json\n",
    "import numpy as np"
   ]
  },
  {
   "cell_type": "code",
   "execution_count": 9,
   "metadata": {},
   "outputs": [],
   "source": [
    "with open('../system_output/bearings.txt') as f:\n",
    "       bearing_dict = json.load(f)"
   ]
  },
  {
   "cell_type": "code",
   "execution_count": 10,
   "metadata": {},
   "outputs": [
    {
     "data": {
      "text/plain": [
       "[{'pose': [[0.7040632548974248], [-0.07694850615433785], [-3.817643498297557]],\n",
       "  'animal': 'llama',\n",
       "  'bearing': -0.04003439488899323},\n",
       " {'pose': [[0.4713571539924868], [-0.6460528161479443], [2.488371460183913]],\n",
       "  'animal': 'llama',\n",
       "  'bearing': 0.0675352144818176}]"
      ]
     },
     "execution_count": 10,
     "metadata": {},
     "output_type": "execute_result"
    }
   ],
   "source": [
    "bearing_dict"
   ]
  },
  {
   "cell_type": "code",
   "execution_count": 29,
   "metadata": {},
   "outputs": [],
   "source": [
    "#Photo 1\n",
    "xk_1 = bearing_dict[0]['pose'][0][0]\n",
    "yk_1 = bearing_dict[0]['pose'][1][0]\n",
    "thetak_1 = bearing_dict[0]['pose'][2][0]\n",
    "bearing_1 = bearing_dict[0]['bearing']\n",
    "\n",
    "#Photo 2\n",
    "xk_2 = bearing_dict[1]['pose'][0][0]\n",
    "yk_2 = bearing_dict[1]['pose'][1][0]\n",
    "thetak_2 = bearing_dict[1]['pose'][2][0]\n",
    "bearing_2 = bearing_dict[1]['bearing']"
   ]
  },
  {
   "cell_type": "code",
   "execution_count": 33,
   "metadata": {},
   "outputs": [],
   "source": [
    "R_theta_1 = np.array([[np.cos(thetak_1), -np.sin(thetak_1)], [np.sin(thetak_1), np.cos(thetak_1)]])\n",
    "R_theta_2 = np.array([[np.cos(thetak_2), -np.sin(thetak_2)], [np.sin(thetak_2), np.cos(thetak_2)]])"
   ]
  },
  {
   "cell_type": "code",
   "execution_count": 34,
   "metadata": {},
   "outputs": [],
   "source": [
    "bearMatrix_1 = np.array([[-np.sin(bearing_1)], [np.cos(bearing_1)]])\n",
    "bearMatrix_2 = np.array([[-np.sin(bearing_2)], [np.cos(bearing_2)]])"
   ]
  },
  {
   "cell_type": "code",
   "execution_count": 38,
   "metadata": {},
   "outputs": [],
   "source": [
    "A1 = bearMatrix_1.T.dot(R_theta_1)\n",
    "A2 = bearMatrix_2.T.dot(R_theta_2)"
   ]
  },
  {
   "cell_type": "code",
   "execution_count": 39,
   "metadata": {},
   "outputs": [],
   "source": [
    "c1 = np.array([[xk_1], [yk_1]])\n",
    "c2 = np.array([[xk_2], [yk_2]])"
   ]
  },
  {
   "cell_type": "code",
   "execution_count": 40,
   "metadata": {},
   "outputs": [],
   "source": [
    "B1 = A1.dot(c1)\n",
    "B2 = A2.dot(c2)"
   ]
  },
  {
   "cell_type": "code",
   "execution_count": 55,
   "metadata": {},
   "outputs": [],
   "source": [
    "A = np.concatenate([A1, A2])\n",
    "B = np.concatenate([B1, B2])"
   ]
  },
  {
   "cell_type": "code",
   "execution_count": 57,
   "metadata": {},
   "outputs": [
    {
     "data": {
      "text/plain": [
       "array([[3.30833365],\n",
       "       [1.84596737]])"
      ]
     },
     "execution_count": 57,
     "metadata": {},
     "output_type": "execute_result"
    }
   ],
   "source": [
    "np.linalg.inv(A.T.dot(A)).dot(A.T).dot(B)"
   ]
  },
  {
   "cell_type": "code",
   "execution_count": null,
   "metadata": {},
   "outputs": [],
   "source": []
  }
 ],
 "metadata": {
  "kernelspec": {
   "display_name": "Python 3",
   "language": "python",
   "name": "python3"
  },
  "language_info": {
   "codemirror_mode": {
    "name": "ipython",
    "version": 3
   },
   "file_extension": ".py",
   "mimetype": "text/x-python",
   "name": "python",
   "nbconvert_exporter": "python",
   "pygments_lexer": "ipython3",
   "version": "3.6.10"
  }
 },
 "nbformat": 4,
 "nbformat_minor": 4
}
